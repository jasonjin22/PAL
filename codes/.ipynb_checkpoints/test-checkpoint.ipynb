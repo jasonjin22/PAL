{
 "cells": [
  {
   "cell_type": "code",
   "execution_count": 150,
   "metadata": {},
   "outputs": [],
   "source": [
    "import imp\n",
    "import GPy\n",
    "import numpy as np\n",
    "import read_data as rd\n",
    "import plot_pareto as pp\n"
   ]
  },
  {
   "cell_type": "code",
   "execution_count": 358,
   "metadata": {},
   "outputs": [
    {
     "name": "stdout",
     "output_type": "stream",
     "text": [
      "(206, 5) (206, 3) (206, 2)\n"
     ]
    }
   ],
   "source": [
    "imp.reload(rd)\n",
    "# SNW data\n",
    "\n",
    "X_full, X, Y = rd.read_from_csv(\"snw\")\n",
    "for i in range(len(Y)):\n",
    "    Y[i][0] = Y[i][0]*(-1)\n",
    "\n",
    "# NOC data\n",
    "\n",
    "# X_full, X, Y = rd.read_from_csv(\"noc\")\n",
    "# for i in range(len(Y)):\n",
    "#     Y[i][0] = Y[i][0]*(-1)\n",
    "    \n",
    "# LLVM data\n",
    "\n",
    "# X_full, X, Y = rd.read_from_csv(\"llvm\")\n",
    "# Y[:, [0, 1]] = Y[:, [1, 0]]\n",
    "# for i in range(len(Y)):\n",
    "#     Y[i][0] = Y[i][0]*(-1)\n",
    "print(X_full.shape, X.shape, Y.shape)"
   ]
  },
  {
   "cell_type": "code",
   "execution_count": 145,
   "metadata": {},
   "outputs": [],
   "source": [
    "kernel = GPy.kern.RBF(input_dim=11, variance=1., lengthscale=1.)"
   ]
  },
  {
   "cell_type": "code",
   "execution_count": 146,
   "metadata": {},
   "outputs": [],
   "source": [
    "y1 = Y[:, 0][:,np.newaxis]\n",
    "m = GPy.models.GPRegression(X,y1,kernel)"
   ]
  },
  {
   "cell_type": "code",
   "execution_count": 147,
   "metadata": {},
   "outputs": [
    {
     "name": "stdout",
     "output_type": "stream",
     "text": [
      "Running L-BFGS-B (Scipy implementation) Code:\n",
      "  runtime   i      f              |g|        \n",
      "    01s14  0011   7.405792e+03   1.112272e+05 \n",
      "    03s16  0031   3.268525e+03   7.722053e+05 \n",
      "    04s16  0041   2.540283e+03   1.596030e+03 \n",
      "    05s68  0056   2.488090e+03   8.081250e-08 \n",
      "Runtime:     05s68\n",
      "Optimization status: Converged\n",
      "\n"
     ]
    },
    {
     "data": {
      "text/plain": [
       "<paramz.optimization.optimization.opt_lbfgsb at 0x12b835950>"
      ]
     },
     "execution_count": 147,
     "metadata": {},
     "output_type": "execute_result"
    }
   ],
   "source": [
    "m.optimize(messages=True)"
   ]
  },
  {
   "cell_type": "code",
   "execution_count": 148,
   "metadata": {
    "scrolled": true
   },
   "outputs": [
    {
     "name": "stdout",
     "output_type": "stream",
     "text": [
      "[[203.82122487]] [[ True]] [[0.94124682]] [[3.14644362]] [210.34  27.  ]\n",
      "[[202.25780583]] [[ True]] [[0.94124682]] [[3.14644362]] [201.15  26.  ]\n",
      "[[203.66136131]] [[ True]] [[0.55884859]] [[2.76404539]] [202.23  26.  ]\n",
      "[[204.92064792]] [[ True]] [[0.55884859]] [[2.76404539]] [204.05  26.  ]\n",
      "[[201.34164315]] [[ True]] [[0.94124682]] [[3.14644362]] [199.95  26.  ]\n",
      "[[204.03736729]] [[ True]] [[0.55884859]] [[2.76404539]] [203.18  26.  ]\n",
      "[[201.84830175]] [[ True]] [[0.94124682]] [[3.14644362]] [201.52  26.  ]\n",
      "[[205.8247892]] [[ True]] [[0.55884859]] [[2.76404539]] [204.99  26.  ]\n",
      "[[201.67901955]] [[ True]] [[0.85691363]] [[3.06211043]] [200.66  27.  ]\n",
      "[[202.56030978]] [[ True]] [[0.85691363]] [[3.06211043]] [202.39  26.  ]\n",
      "[[201.87073652]] [[ True]] [[0.85691363]] [[3.06211043]] [201.9  26. ]\n",
      "[[203.46150494]] [[ True]] [[0.85691363]] [[3.06211043]] [203.64  26.  ]\n",
      "[[203.66136131]] [[ True]] [[0.55884859]] [[2.76404539]] [204.18  26.  ]\n",
      "[[204.03736729]] [[ True]] [[0.55884859]] [[2.76404539]] [205.13  26.  ]\n",
      "[[204.92064792]] [[ True]] [[0.55884859]] [[2.76404539]] [205.99  26.  ]\n",
      "[[205.8247892]] [[ True]] [[0.55884859]] [[2.76404539]] [206.9  26. ]\n",
      "[[201.59604061]] [[ True]] [[0.94124682]] [[3.14644362]] [200.38  29.  ]\n",
      "[[202.04357406]] [[ True]] [[0.94124682]] [[3.14644362]] [201.83  29.  ]\n",
      "[[204.13171113]] [[ True]] [[0.55884859]] [[2.76404539]] [203.53  29.  ]\n",
      "[[205.77599815]] [[ True]] [[0.55884859]] [[2.76404539]] [205.21  29.  ]\n",
      "[[201.6551169]] [[ True]] [[0.85691363]] [[3.06211043]] [202.06  29.  ]\n",
      "[[204.13171113]] [[ True]] [[0.55884859]] [[2.76404539]] [205.36  29.  ]\n",
      "[[203.41638401]] [[ True]] [[0.85691363]] [[3.06211043]] [203.98  29.  ]\n",
      "[[205.77599815]] [[ True]] [[0.55884859]] [[2.76404539]] [207.12  29.  ]\n",
      "[[201.32915754]] [[ True]] [[0.94124682]] [[3.14644362]] [201.47  29.  ]\n",
      "[[202.69616187]] [[ True]] [[0.94124682]] [[3.14644362]] [203.19  29.  ]\n",
      "[[202.5412379]] [[ True]] [[0.85691363]] [[3.06211043]] [203.19  29.  ]\n",
      "[[204.36000769]] [[ True]] [[0.85691363]] [[3.06211043]] [204.96  29.  ]\n",
      "[[205.11117348]] [[ True]] [[0.55884859]] [[2.76404539]] [204.73  29.  ]\n",
      "[[205.11117348]] [[ True]] [[0.55884859]] [[2.76404539]] [206.43  29.  ]\n",
      "[[206.84932559]] [[ True]] [[0.55884859]] [[2.76404539]] [206.35  29.  ]\n",
      "[[206.84932559]] [[ True]] [[0.55884859]] [[2.76404539]] [208.05  29.  ]\n",
      "[[201.09360087]] [[ True]] [[0.94124682]] [[3.14644362]] [199.68  29.  ]\n",
      "[[201.658844]] [[ True]] [[0.94124682]] [[3.14644362]] [201.55  29.  ]\n",
      "[[203.56523079]] [[ True]] [[0.55884859]] [[2.76404539]] [202.93  29.  ]\n"
     ]
    }
   ],
   "source": [
    "for i in range(35):\n",
    "    print(m.predict_noiseless(np.array([X[i]]))[0], m.predict_noiseless(np.array([X[i]]))[0] == m.predict(np.array([X[i]]))[0], m.predict_noiseless(np.array([X[i]]))[1], m.predict(np.array([X[i]]))[1], Y[i])"
   ]
  },
  {
   "cell_type": "code",
   "execution_count": 372,
   "metadata": {},
   "outputs": [
    {
     "data": {
      "image/png": "[encoded data removed]",
      "text/plain": [
       "<Figure size 432x288 with 1 Axes>"
      ]
     },
     "metadata": {
      "needs_background": "light"
     },
     "output_type": "display_data"
    },
    {
     "data": {
      "image/png": "[encoded data removed]",
      "text/plain": [
       "<Figure size 432x288 with 1 Axes>"
      ]
     },
     "metadata": {
      "needs_background": "light"
     },
     "output_type": "display_data"
    }
   ],
   "source": [
    "imp.reload(pp)\n",
    "# SNW data\n",
    "# pp.plot_PF((-Y[:, 0]), (Y[:, 1]))\n",
    "\n",
    "# LLVM data (looks different from the pic in the paper)\n",
    "# pp.plot_PF((Y[:, 1]), (Y[:, 0]))\n",
    "\n",
    "\n",
    "# noc data\n",
    "pp.plot_points((Y[:, 0]), (Y[:, 1]))\n",
    "\n",
    "imp.reload(pp)\n",
    "Y_pareto = pp.find_pareto(Y)\n",
    "\n",
    "pp.plot_points_with_pareto((Y[:, 0]), (Y[:, 1]), (Y_pareto[:, 0]),  (Y_pareto[:, 1]))"
   ]
  },
  {
   "cell_type": "code",
   "execution_count": 365,
   "metadata": {},
   "outputs": [
    {
     "name": "stdout",
     "output_type": "stream",
     "text": [
      "[-7.08746284  3.86665143]\n",
      "[-7.8008999   4.81327333]\n",
      "[-8.11374217  4.86647839]\n",
      "[-8.72792045  5.79327395]\n",
      "[-8.78135971  5.84143515]\n",
      "[-8.9248125   5.87047463]\n",
      "[-9.09539702  6.02339954]\n",
      "[-9.15481811  6.03537218]\n",
      "[-9.41151099  7.01811228]\n",
      "[-9.81858218  7.22633359]\n",
      "[-9.83289001  7.2569737 ]\n",
      "[-9.90989308  7.43086963]\n",
      "[-9.96578428  7.72403465]\n",
      "[-10.07146236   7.80495987]\n",
      "[-10.09275714   9.73681171]\n",
      "[-10.31741261   9.74979513]\n",
      "[-10.37068741   9.77106682]\n",
      "[-10.67419227  10.66419664]\n",
      "[-11.22641219  10.67300254]\n",
      "[-11.77231457  11.47418769]\n",
      "[-12.04780555  11.65370002]\n",
      "[-12.65082737  12.47418769]\n",
      "[-13.52380696  13.23156242]\n",
      "[-13.7412563   13.30175662]\n",
      "[-14.48179943  13.70214888]\n",
      "[-15.39590226  14.71664238]\n"
     ]
    }
   ],
   "source": [
    "for i in Y_pareto:\n",
    "    print(i)"
   ]
  },
  {
   "cell_type": "code",
   "execution_count": null,
   "metadata": {},
   "outputs": [],
   "source": []
  }
 ],
 "metadata": {
  "kernelspec": {
   "display_name": "Python [conda env:PAL] *",
   "language": "python",
   "name": "conda-env-PAL-py"
  },
  "language_info": {
   "codemirror_mode": {
    "name": "ipython",
    "version": 3
   },
   "file_extension": ".py",
   "mimetype": "text/x-python",
   "name": "python",
   "nbconvert_exporter": "python",
   "pygments_lexer": "ipython3",
   "version": "3.7.7"
  },
  "pycharm": {
   "stem_cell": {
    "cell_type": "raw",
    "metadata": {
     "collapsed": false
    },
    "source": []
   }
  }
 },
 "nbformat": 4,
 "nbformat_minor": 4
}
